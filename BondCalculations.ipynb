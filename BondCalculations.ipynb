{
 "cells": [
  {
   "cell_type": "markdown",
   "metadata": {},
   "source": [
    "# Importing Modules"
   ]
  },
  {
   "cell_type": "code",
   "execution_count": 19,
   "metadata": {},
   "outputs": [
    {
     "data": {
      "text/plain": [
       "[0, 1, 2, 3, 4, 5, 6, 7, 8, 9]"
      ]
     },
     "execution_count": 19,
     "metadata": {},
     "output_type": "execute_result"
    }
   ],
   "source": [
    "# from numpy import linspace,arange\n",
    "import numpy as np \n",
    "import scipy as sc\n",
    "'''\n",
    "Also a way to comment\n",
    "'''\n",
    "values = np.linspace(0,9,10)    #creates an array of even floats(third argument) between the first and the second arguments\n",
    "values = np.arange(10) #integers only\n",
    "values \n",
    "#range function returns values from 0 to n-1 \n",
    "[_ for _ in range(10)]"
   ]
  },
  {
   "cell_type": "code",
   "execution_count": 6,
   "metadata": {},
   "outputs": [
    {
     "data": {
      "text/plain": [
       "100.1"
      ]
     },
     "execution_count": 6,
     "metadata": {},
     "output_type": "execute_result"
    }
   ],
   "source": [
    "Present_val = 100/1+.1 +0/(1+.1)**2    # FV/(1+r)^n  +...\n",
    "\n",
    "Present_val"
   ]
  },
  {
   "cell_type": "markdown",
   "metadata": {},
   "source": [
    "# Present Value of the Bond\n"
   ]
  },
  {
   "cell_type": "code",
   "execution_count": 13,
   "metadata": {},
   "outputs": [],
   "source": [
    "#returns the pv bond\n",
    "def bondpv(ytm,term,coupon_rate,face):\n",
    "    coupons = face * coupon_rate\n",
    "    discounted_coupons = [coupons/(1+ytm)**(1+i) for i in range(term)]\n",
    "    discounted_face = face/(1+ytm)**term\n",
    "    return discounted_face + sum(discounted_coupons)     #discounted_coupon is list and won't work  so we  add sum \n",
    "\n",
    "    "
   ]
  },
  {
   "cell_type": "code",
   "execution_count": 14,
   "metadata": {
    "scrolled": true
   },
   "outputs": [
    {
     "data": {
      "text/plain": [
       "127.45065966010095"
      ]
     },
     "execution_count": 14,
     "metadata": {},
     "output_type": "execute_result"
    }
   ],
   "source": [
    "bondpv(ytm=.8,term=10,coupon_rate=.1,face=1000)"
   ]
  },
  {
   "cell_type": "markdown",
   "metadata": {},
   "source": [
    "# How to find the ytm of 10 year bond with 8% coupons selling and 1000 face value that is selling for 890"
   ]
  },
  {
   "cell_type": "code",
   "execution_count": 10,
   "metadata": {},
   "outputs": [],
   "source": [
    "from scipy import optimize"
   ]
  },
  {
   "cell_type": "code",
   "execution_count": 12,
   "metadata": {},
   "outputs": [
    {
     "data": {
      "text/plain": [
       "0.13137996991960965"
      ]
     },
     "execution_count": 12,
     "metadata": {},
     "output_type": "execute_result"
    }
   ],
   "source": [
    "ytm = optimize.newton(lambda ytm: bondpv(ytm,5,.1,1000)-890, .1)\n",
    "ytm"
   ]
  }
 ],
 "metadata": {
  "kernelspec": {
   "display_name": "Python 3",
   "language": "python",
   "name": "python3"
  },
  "language_info": {
   "codemirror_mode": {
    "name": "ipython",
    "version": 3
   },
   "file_extension": ".py",
   "mimetype": "text/x-python",
   "name": "python",
   "nbconvert_exporter": "python",
   "pygments_lexer": "ipython3",
   "version": "3.8.3"
  }
 },
 "nbformat": 4,
 "nbformat_minor": 4
}
